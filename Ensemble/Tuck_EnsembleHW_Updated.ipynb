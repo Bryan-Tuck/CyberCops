{
 "cells": [
  {
   "cell_type": "code",
   "execution_count": 1,
   "id": "686769d4",
   "metadata": {},
   "outputs": [],
   "source": [
    "import numpy as np\n",
    "import pandas as pd\n",
    "\n",
    "from sklearn.model_selection import train_test_split\n",
    "from sklearn import model_selection\n",
    "from sklearn.preprocessing import StandardScaler\n",
    "\n",
    "from sklearn.linear_model import LogisticRegression\n",
    "from sklearn.neighbors import KNeighborsClassifier\n",
    "from sklearn.naive_bayes import GaussianNB\n",
    "from sklearn.svm import SVC\n",
    "from sklearn.neural_network import MLPClassifier\n",
    "from sklearn.ensemble import RandomForestClassifier\n",
    "from sklearn.ensemble import AdaBoostClassifier\n",
    "\n",
    "from sklearn.metrics import accuracy_score\n",
    "from sklearn.metrics import f1_score\n",
    "from sklearn.metrics import recall_score\n",
    "from sklearn.metrics import precision_score\n",
    "from sklearn.metrics import classification_report\n",
    "from sklearn.metrics import confusion_matrix\n",
    "\n",
    "import matplotlib.pyplot as plt\n",
    "import seaborn as sns"
   ]
  },
  {
   "cell_type": "code",
   "execution_count": 2,
   "id": "6f82575b",
   "metadata": {},
   "outputs": [
    {
     "name": "stdout",
     "output_type": "stream",
     "text": [
      "(178, 14)\n",
      "<class 'pandas.core.frame.DataFrame'>\n",
      "RangeIndex: 178 entries, 0 to 177\n",
      "Data columns (total 14 columns):\n",
      " #   Column                Non-Null Count  Dtype  \n",
      "---  ------                --------------  -----  \n",
      " 0   Wine                  178 non-null    int64  \n",
      " 1   Alcohol               178 non-null    float64\n",
      " 2   Malic.acid            178 non-null    float64\n",
      " 3   Ash                   178 non-null    float64\n",
      " 4   Acl                   178 non-null    float64\n",
      " 5   Mg                    178 non-null    int64  \n",
      " 6   Phenols               178 non-null    float64\n",
      " 7   Flavanoids            178 non-null    float64\n",
      " 8   Nonflavanoid.phenols  178 non-null    float64\n",
      " 9   Proanth               178 non-null    float64\n",
      " 10  Color.int             178 non-null    float64\n",
      " 11  Hue                   178 non-null    float64\n",
      " 12  OD                    178 non-null    float64\n",
      " 13  Proline               178 non-null    int64  \n",
      "dtypes: float64(11), int64(3)\n",
      "memory usage: 19.6 KB\n",
      "None\n",
      "             Wine     Alcohol  Malic.acid         Ash         Acl          Mg  \\\n",
      "count  178.000000  178.000000  178.000000  178.000000  178.000000  178.000000   \n",
      "mean     1.938202   13.000618    2.336348    2.366517   19.494944   99.741573   \n",
      "std      0.775035    0.811827    1.117146    0.274344    3.339564   14.282484   \n",
      "min      1.000000   11.030000    0.740000    1.360000   10.600000   70.000000   \n",
      "25%      1.000000   12.362500    1.602500    2.210000   17.200000   88.000000   \n",
      "50%      2.000000   13.050000    1.865000    2.360000   19.500000   98.000000   \n",
      "75%      3.000000   13.677500    3.082500    2.557500   21.500000  107.000000   \n",
      "max      3.000000   14.830000    5.800000    3.230000   30.000000  162.000000   \n",
      "\n",
      "          Phenols  Flavanoids  Nonflavanoid.phenols     Proanth   Color.int  \\\n",
      "count  178.000000  178.000000            178.000000  178.000000  178.000000   \n",
      "mean     2.295112    2.029270              0.361854    1.590899    5.058090   \n",
      "std      0.625851    0.998859              0.124453    0.572359    2.318286   \n",
      "min      0.980000    0.340000              0.130000    0.410000    1.280000   \n",
      "25%      1.742500    1.205000              0.270000    1.250000    3.220000   \n",
      "50%      2.355000    2.135000              0.340000    1.555000    4.690000   \n",
      "75%      2.800000    2.875000              0.437500    1.950000    6.200000   \n",
      "max      3.880000    5.080000              0.660000    3.580000   13.000000   \n",
      "\n",
      "              Hue          OD      Proline  \n",
      "count  178.000000  178.000000   178.000000  \n",
      "mean     0.957449    2.611685   746.893258  \n",
      "std      0.228572    0.709990   314.907474  \n",
      "min      0.480000    1.270000   278.000000  \n",
      "25%      0.782500    1.937500   500.500000  \n",
      "50%      0.965000    2.780000   673.500000  \n",
      "75%      1.120000    3.170000   985.000000  \n",
      "max      1.710000    4.000000  1680.000000  \n"
     ]
    }
   ],
   "source": [
    "read_data = pd.read_csv('wine.csv')\n",
    "df = pd.DataFrame(read_data)\n",
    "\n",
    "# shape\n",
    "print(df.shape)\n",
    "\n",
    "# head\n",
    "print(df.info())\n",
    "\n",
    "# Statistical Summary\n",
    "\n",
    "# descriptions\n",
    "print(df.describe())"
   ]
  },
  {
   "cell_type": "code",
   "execution_count": 3,
   "id": "3be2d6a0",
   "metadata": {},
   "outputs": [
    {
     "name": "stdout",
     "output_type": "stream",
     "text": [
      "Wine\n",
      "1    59\n",
      "2    71\n",
      "3    48\n",
      "dtype: int64\n"
     ]
    }
   ],
   "source": [
    "print(df.groupby('Wine').size())"
   ]
  },
  {
   "cell_type": "code",
   "execution_count": 4,
   "id": "def1a542",
   "metadata": {},
   "outputs": [],
   "source": [
    "X = df.drop(['Wine'],axis=1)\n",
    "y = df['Wine']\n",
    "\n",
    "X_train, X_test, y_train, y_test = train_test_split(X, y, test_size = 0.3, random_state = 42)"
   ]
  },
  {
   "cell_type": "code",
   "execution_count": 5,
   "id": "aae0ec53",
   "metadata": {},
   "outputs": [],
   "source": [
    "scaler = StandardScaler()\n",
    "X_train_scaled = scaler.fit(X_train).transform(X_train)\n",
    "X_test_scaled = scaler.fit(X_test).transform(X_test)"
   ]
  },
  {
   "cell_type": "code",
   "execution_count": 6,
   "id": "8e62d172",
   "metadata": {},
   "outputs": [
    {
     "name": "stdout",
     "output_type": "stream",
     "text": [
      "Training shape:  (124, 13)\n",
      "Testing shape:  (54, 13)\n",
      "Labels Training shape:  (124,)\n",
      "Labels Testing shape:  (54,)\n"
     ]
    }
   ],
   "source": [
    "print('Training shape: ', X_train_scaled.shape)\n",
    "print('Testing shape: ', X_test_scaled.shape)\n",
    "print('Labels Training shape: ', y_train.shape)\n",
    "print('Labels Testing shape: ', y_test.shape)"
   ]
  },
  {
   "cell_type": "code",
   "execution_count": 7,
   "id": "62d5ca44",
   "metadata": {},
   "outputs": [
    {
     "name": "stdout",
     "output_type": "stream",
     "text": [
      "Training Scores\n",
      "LR: 0.975806 (0.008065)\n",
      "KNN: 0.927419 (0.024194)\n",
      "NB: 0.943548 (0.008065)\n",
      "SVM: 0.975806 (0.008065)\n",
      "MLP: 0.959677 (0.008065)\n",
      "RF: 0.951613 (0.016129)\n",
      "AdaBoost: 0.959677 (0.008065)\n"
     ]
    },
    {
     "data": {
      "image/png": "[encoded data removed]",
      "text/plain": [
       "<Figure size 432x288 with 1 Axes>"
      ]
     },
     "metadata": {
      "needs_background": "light"
     },
     "output_type": "display_data"
    }
   ],
   "source": [
    "# Spot Check Algorithms\n",
    "models = []\n",
    "models.append(('LR',  LogisticRegression(multi_class = 'multinomial', C = 0.3)))\n",
    "models.append(('KNN', KNeighborsClassifier(n_neighbors = 1)))\n",
    "models.append(('NB',  GaussianNB()))\n",
    "models.append(('SVM', SVC(decision_function_shape = 'ovo')))\n",
    "models.append(('MLP', MLPClassifier(hidden_layer_sizes = (50,50,50),max_iter = 200)))\n",
    "models.append(('RF',  RandomForestClassifier()))\n",
    "models.append(('AdaBoost', AdaBoostClassifier(LogisticRegression())))\n",
    "\n",
    "# evaluate each model in turn\n",
    "training_results = []\n",
    "names = []\n",
    "\n",
    "print(\"Training Scores\")\n",
    "for name, model in models:\n",
    "    kfold = model_selection.StratifiedKFold(n_splits = 2)\n",
    "    training_cv_results = model_selection.cross_val_score(model, X_train_scaled, y_train, cv = kfold, scoring = 'accuracy')\n",
    "    training_results.append(training_cv_results)\n",
    "    names.append(name)\n",
    "    msg = \"%s: %f (%f)\" % (name, training_cv_results.mean(), training_cv_results.std())\n",
    "    print(msg)\n",
    "\n",
    "# Compare Algorithms Accuracy\n",
    "red_circle = dict(markerfacecolor='red', marker='o')\n",
    "fig = plt.figure()\n",
    "fig.suptitle('Training Algorithm Comparison')\n",
    "ax = fig.add_subplot(111)\n",
    "plt.boxplot(training_results, flierprops = red_circle)\n",
    "ax.set_xticklabels(names)\n",
    "plt.show()"
   ]
  },
  {
   "cell_type": "markdown",
   "id": "506c122a",
   "metadata": {},
   "source": [
    "Choosing the top two models to do an in depth evaluation"
   ]
  },
  {
   "cell_type": "code",
   "execution_count": 8,
   "id": "fb3260f0",
   "metadata": {},
   "outputs": [],
   "source": [
    "#Logistic Regression\n",
    "lr = LogisticRegression(multi_class = 'multinomial', C = 0.3)\n",
    "\n",
    "lr.fit(X_train_scaled, y_train)\n",
    "lr_pred = lr.predict(X_test_scaled)"
   ]
  },
  {
   "cell_type": "code",
   "execution_count": 9,
   "id": "a61a9df5",
   "metadata": {},
   "outputs": [
    {
     "name": "stdout",
     "output_type": "stream",
     "text": [
      "Logistic Regression Report\n",
      "Accuracy: 0.9814814814814815\n",
      "F1 score: 0.9815749306918357\n",
      "Recall: 0.9814814814814815\n",
      "Precision: 0.982716049382716\n",
      "\n",
      " logistic regression clasification report:\n",
      "               precision    recall  f1-score   support\n",
      "\n",
      "           1       1.00      1.00      1.00        19\n",
      "           2       1.00      0.95      0.98        21\n",
      "           3       0.93      1.00      0.97        14\n",
      "\n",
      "    accuracy                           0.98        54\n",
      "   macro avg       0.98      0.98      0.98        54\n",
      "weighted avg       0.98      0.98      0.98        54\n",
      "\n"
     ]
    },
    {
     "data": {
      "image/png": "[encoded data removed]",
      "text/plain": [
       "<Figure size 720x576 with 2 Axes>"
      ]
     },
     "metadata": {
      "needs_background": "light"
     },
     "output_type": "display_data"
    }
   ],
   "source": [
    "print('Logistic Regression Report')\n",
    "print ('Accuracy:', accuracy_score(y_test, lr_pred))\n",
    "print ('F1 score:', f1_score(y_test, lr_pred,average='weighted'))\n",
    "print ('Recall:', recall_score(y_test, lr_pred,\n",
    "                              average='weighted'))\n",
    "print ('Precision:', precision_score(y_test, lr_pred,\n",
    "                                    average='weighted'))\n",
    "print ('\\n logistic regression clasification report:\\n', classification_report(y_test, lr_pred))\n",
    "\n",
    "cm = confusion_matrix(y_test, lr_pred)\n",
    "cm_df = pd.DataFrame(cm, index = ['1', '2', '3'],\n",
    "                     columns=['1', '2', '3'])\n",
    "\n",
    "plt.figure(figsize=(10,8))\n",
    "sns.heatmap(cm_df, annot=True, fmt = 'g')\n",
    "plt.title('Logistic Regression')\n",
    "plt.ylabel('Actal Values')\n",
    "plt.xlabel('Predicted Values')\n",
    "plt.show()"
   ]
  },
  {
   "cell_type": "code",
   "execution_count": 10,
   "id": "f97de101",
   "metadata": {},
   "outputs": [],
   "source": [
    "#Support Vector Machine\n",
    "svm = SVC(decision_function_shape = 'ovo')\n",
    "\n",
    "svm.fit(X_train_scaled, y_train)\n",
    "svm_pred = svm.predict(X_test_scaled)"
   ]
  },
  {
   "cell_type": "code",
   "execution_count": 11,
   "id": "920668e8",
   "metadata": {},
   "outputs": [
    {
     "name": "stdout",
     "output_type": "stream",
     "text": [
      "Support Vector Machine Report\n",
      "Accuracy: 0.9814814814814815\n",
      "F1 score: 0.9813538775640411\n",
      "Recall: 0.9814814814814815\n",
      "Precision: 0.9823232323232324\n",
      "\n",
      " Support Vector Machine clasification report:\n",
      "               precision    recall  f1-score   support\n",
      "\n",
      "           1       1.00      1.00      1.00        19\n",
      "           2       0.95      1.00      0.98        21\n",
      "           3       1.00      0.93      0.96        14\n",
      "\n",
      "    accuracy                           0.98        54\n",
      "   macro avg       0.98      0.98      0.98        54\n",
      "weighted avg       0.98      0.98      0.98        54\n",
      "\n"
     ]
    },
    {
     "data": {
      "image/png": "[encoded data removed]",
      "text/plain": [
       "<Figure size 720x576 with 2 Axes>"
      ]
     },
     "metadata": {
      "needs_background": "light"
     },
     "output_type": "display_data"
    }
   ],
   "source": [
    "print('Support Vector Machine Report')\n",
    "print ('Accuracy:', accuracy_score(y_test, svm_pred))\n",
    "print ('F1 score:', f1_score(y_test, svm_pred,average='weighted'))\n",
    "print ('Recall:', recall_score(y_test, svm_pred,\n",
    "                              average='weighted'))\n",
    "print ('Precision:', precision_score(y_test, svm_pred,\n",
    "                                    average='weighted'))\n",
    "print ('\\n Support Vector Machine clasification report:\\n', classification_report(y_test, svm_pred))\n",
    "\n",
    "cm = confusion_matrix(y_test, svm_pred)\n",
    "cm_df = pd.DataFrame(cm, index = ['1', '2', '3'],\n",
    "                     columns=['1', '2', '3'])\n",
    "\n",
    "plt.figure(figsize=(10,8))\n",
    "sns.heatmap(cm_df, annot=True, fmt = 'g')\n",
    "plt.title('SVM')\n",
    "plt.ylabel('Actal Values')\n",
    "plt.xlabel('Predicted Values')\n",
    "plt.show()"
   ]
  }
 ],
 "metadata": {
  "kernelspec": {
   "display_name": "Python 3",
   "language": "python",
   "name": "python3"
  },
  "language_info": {
   "codemirror_mode": {
    "name": "ipython",
    "version": 3
   },
   "file_extension": ".py",
   "mimetype": "text/x-python",
   "name": "python",
   "nbconvert_exporter": "python",
   "pygments_lexer": "ipython3",
   "version": "3.7.11"
  }
 },
 "nbformat": 4,
 "nbformat_minor": 5
}
